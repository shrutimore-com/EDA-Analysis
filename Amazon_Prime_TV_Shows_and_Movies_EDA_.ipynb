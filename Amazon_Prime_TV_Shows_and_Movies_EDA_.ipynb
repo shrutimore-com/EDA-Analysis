{
  "nbformat": 4,
  "nbformat_minor": 0,
  "metadata": {
    "colab": {
      "private_outputs": true,
      "provenance": [],
      "collapsed_sections": [
        "FJNUwmbgGyua",
        "w6K7xa23Elo4",
        "0wOQAZs5pc--",
        "K5QZ13OEpz2H",
        "KSlN3yHqYklG",
        "EM7whBJCYoAo",
        "UETtUIsjj0d7",
        "RoGjAbkUYoAp",
        "4Of9eVA-YrdM",
        "gIfDvo9L0UH2"
      ],
      "include_colab_link": true
    },
    "kernelspec": {
      "name": "python3",
      "display_name": "Python 3"
    },
    "language_info": {
      "name": "python"
    }
  },
  "cells": [
    {
      "cell_type": "markdown",
      "metadata": {
        "id": "view-in-github",
        "colab_type": "text"
      },
      "source": [
        "<a href=\"https://colab.research.google.com/github/shrutimore-com/EDA-Analysis/blob/main/Amazon_Prime_TV_Shows_and_Movies_EDA_.ipynb\" target=\"_parent\"><img src=\"https://colab.research.google.com/assets/colab-badge.svg\" alt=\"Open In Colab\"/></a>"
      ]
    },
    {
      "cell_type": "markdown",
      "source": [
        "# **Project Name**    - **Amazon Prime TV Shows and Movies**\n",
        "\n"
      ],
      "metadata": {
        "id": "vncDsAP0Gaoa"
      }
    },
    {
      "cell_type": "markdown",
      "source": [
        "##### **Project Type**    - EDA\n",
        "##### **Contribution**    - Individual\n"
      ],
      "metadata": {
        "id": "beRrZCGUAJYm"
      }
    },
    {
      "cell_type": "markdown",
      "source": [
        "# **Project Summary -**"
      ],
      "metadata": {
        "id": "FJNUwmbgGyua"
      }
    },
    {
      "cell_type": "markdown",
      "source": [
        "This project focuses on performing a detailed Exploratory Data Analysis (EDA) of Amazon Prime Video’s catalog to gain meaningful insights into its content distribution, trends, and audience preferences. Using Python (Pandas, NumPy, Matplotlib, and Seaborn), I analyzed datasets containing information about movies and TV shows available on the platform, including their release year, genre, ratings, duration, country, and crew details.\n",
        "\n",
        "The main goal of this analysis was to uncover patterns in content strategy, such as the dominance of specific genres, trends in production over the years, and geographical diversity of titles. Visualizations like bar charts, scatter plots, and heatmaps were used to identify correlations and interpret content-based trends.\n",
        "\n",
        "Through this project, I developed data cleaning, preprocessing, and visualization skills — and derived actionable insights into how Amazon Prime’s content differs from competitors like Netflix."
      ],
      "metadata": {
        "id": "F6v_1wHtG2nS"
      }
    },
    {
      "cell_type": "markdown",
      "source": [
        "# **GitHub Link -**"
      ],
      "metadata": {
        "id": "w6K7xa23Elo4"
      }
    },
    {
      "cell_type": "markdown",
      "source": [
        "Provide your GitHub Link here."
      ],
      "metadata": {
        "id": "h1o69JH3Eqqn"
      }
    },
    {
      "cell_type": "markdown",
      "source": [
        "# **Problem Statement**\n"
      ],
      "metadata": {
        "id": "yQaldy8SH6Dl"
      }
    },
    {
      "cell_type": "markdown",
      "source": [
        "**Business overview**\n",
        "\n",
        "1.  Amazon Prime Video offers a vast collection of movies and TV shows across various regions and genres. Understanding the proportion and distribution of this content is key to identifying audience preferences and platform strategy.\n",
        "2.  Over the years, streaming platforms have evolved rapidly. Analyzing how the number of titles changes over time can reveal strategic expansion periods or global streaming trends.\n",
        "3.  Amazon Prime Video streams content from various countries to attract a global audience. Knowing which regions contribute most content can help understand localization and diversity strategies.\n",
        "4.  Genre preference insights help streaming platforms understand what kind of content attracts more viewers and engagement.\n",
        "5.  Ratings and votes are critical indicators of audience satisfaction and engagement. Analyzing this relationship helps understand viewer behavior and popularity trends.\n",
        "6.  The involvement of certain directors, actors, and producers can influence a show's popularity and ratings."
      ],
      "metadata": {
        "id": "DpeJGUA3kjGy"
      }
    },
    {
      "cell_type": "markdown",
      "source": [
        "#### **Define Your Business Objective?**"
      ],
      "metadata": {
        "id": "PH-0ReGfmX4f"
      }
    },
    {
      "cell_type": "markdown",
      "source": [
        "The primary business objective of this project is to analyze Amazon Prime Video’s catalog of movies and TV shows to uncover key trends, patterns, and insights that can help understand the platform’s content strategy, audience engagement, and market direction."
      ],
      "metadata": {
        "id": "PhDvGCAqmjP1"
      }
    },
    {
      "cell_type": "markdown",
      "source": [
        "# **General Guidelines** : -  "
      ],
      "metadata": {
        "id": "mDgbUHAGgjLW"
      }
    },
    {
      "cell_type": "markdown",
      "source": [
        "1.   Well-structured, formatted, and commented code is required.\n",
        "2.   Exception Handling, Production Grade Code & Deployment Ready Code will be a plus. Those students will be awarded some additional credits.\n",
        "     \n",
        "     The additional credits will have advantages over other students during Star Student selection.\n",
        "       \n",
        "             [ Note: - Deployment Ready Code is defined as, the whole .ipynb notebook should be executable in one go\n",
        "                       without a single error logged. ]\n",
        "\n",
        "3.   Each and every logic should have proper comments.\n",
        "4. You may add as many number of charts you want. Make Sure for each and every chart the following format should be answered.\n",
        "        \n",
        "\n",
        "```\n",
        "# Chart visualization code\n",
        "```\n",
        "            \n",
        "\n",
        "*   Why did you pick the specific chart?\n",
        "*   What is/are the insight(s) found from the chart?\n",
        "* Will the gained insights help creating a positive business impact?\n",
        "Are there any insights that lead to negative growth? Justify with specific reason.\n",
        "\n",
        "5. You have to create at least 20 logical & meaningful charts having important insights.\n",
        "\n",
        "\n",
        "[ Hints : - Do the Vizualization in  a structured way while following \"UBM\" Rule.\n",
        "\n",
        "U - Univariate Analysis,\n",
        "\n",
        "B - Bivariate Analysis (Numerical - Categorical, Numerical - Numerical, Categorical - Categorical)\n",
        "\n",
        "M - Multivariate Analysis\n",
        " ]\n",
        "\n",
        "\n",
        "\n"
      ],
      "metadata": {
        "id": "ZrxVaUj-hHfC"
      }
    },
    {
      "cell_type": "markdown",
      "source": [
        "# ***Let's Begin !***"
      ],
      "metadata": {
        "id": "O_i_v8NEhb9l"
      }
    },
    {
      "cell_type": "markdown",
      "source": [
        "## ***1. Know Your Data***"
      ],
      "metadata": {
        "id": "HhfV-JJviCcP"
      }
    },
    {
      "cell_type": "markdown",
      "source": [
        "### Import Libraries"
      ],
      "metadata": {
        "id": "Y3lxredqlCYt"
      }
    },
    {
      "cell_type": "code",
      "source": [
        "# Import Libraries\n",
        "import pandas as pd\n",
        "import numpy as np\n",
        "import matplotlib.pyplot as plt\n",
        "import seaborn as sns\n",
        "import ast\n",
        "# Display plots in notebook\n",
        "%matplotlib inline\n",
        "from typing import NewType\n",
        "import plotly.graph_objects as go"
      ],
      "metadata": {
        "id": "M8Vqi-pPk-HR"
      },
      "execution_count": null,
      "outputs": []
    },
    {
      "cell_type": "markdown",
      "source": [
        "### Dataset Loading"
      ],
      "metadata": {
        "id": "3RnN4peoiCZX"
      }
    },
    {
      "cell_type": "code",
      "source": [
        "# Load Dataset\n",
        "title_df = pd.read_csv(\"titles.csv\")\n",
        "credits_df = pd.read_csv(\"credits.csv\")"
      ],
      "metadata": {
        "id": "4CkvbW_SlZ_R"
      },
      "execution_count": null,
      "outputs": []
    },
    {
      "cell_type": "markdown",
      "source": [
        "### Dataset First View"
      ],
      "metadata": {
        "id": "x71ZqKXriCWQ"
      }
    },
    {
      "cell_type": "code",
      "source": [
        "# Datasets First Look--For Titles\n",
        "print(\"Title DataFrame:\")\n",
        "print(title_df.head())\n",
        "\n"
      ],
      "metadata": {
        "id": "LWNFOSvLl09H",
        "collapsed": true
      },
      "execution_count": null,
      "outputs": []
    },
    {
      "cell_type": "code",
      "source": [
        "# Datasets First Look--For Credits\n",
        "print(\"\\nCredits DataFrame:\")\n",
        "print(credits_df.head())"
      ],
      "metadata": {
        "collapsed": true,
        "id": "KyudNgd5CjmU"
      },
      "execution_count": null,
      "outputs": []
    },
    {
      "cell_type": "markdown",
      "source": [
        "### Dataset Rows & Columns count"
      ],
      "metadata": {
        "id": "7hBIi_osiCS2"
      }
    },
    {
      "cell_type": "code",
      "source": [
        "# Dataset Rows & Columns count\n",
        "print(title_df.shape)"
      ],
      "metadata": {
        "id": "Kllu7SJgmLij"
      },
      "execution_count": null,
      "outputs": []
    },
    {
      "cell_type": "code",
      "source": [
        "print(credits_df.shape)"
      ],
      "metadata": {
        "id": "4ziI_rrUDWIM"
      },
      "execution_count": null,
      "outputs": []
    },
    {
      "cell_type": "markdown",
      "source": [
        "### Dataset Information"
      ],
      "metadata": {
        "id": "JlHwYmJAmNHm"
      }
    },
    {
      "cell_type": "code",
      "source": [
        "# Dataset Info\n",
        "title_df.info()"
      ],
      "metadata": {
        "id": "e9hRXRi6meOf"
      },
      "execution_count": null,
      "outputs": []
    },
    {
      "cell_type": "code",
      "source": [
        "credits_df.info()"
      ],
      "metadata": {
        "id": "_2dpf4FTDyLz"
      },
      "execution_count": null,
      "outputs": []
    },
    {
      "cell_type": "markdown",
      "source": [
        "#### Duplicate Values"
      ],
      "metadata": {
        "id": "35m5QtbWiB9F"
      }
    },
    {
      "cell_type": "code",
      "source": [
        "# Dataset Duplicate Value Count\n",
        "title_duplicates = title_df.duplicated().sum()\n",
        "print(f\"Duplicate rows in title.csv: {title_duplicates}\")\n"
      ],
      "metadata": {
        "id": "1sLdpKYkmox0",
        "collapsed": true
      },
      "execution_count": null,
      "outputs": []
    },
    {
      "cell_type": "code",
      "source": [
        "#Drop Duplicates\n",
        "title_df_clean = title_df.drop_duplicates()"
      ],
      "metadata": {
        "id": "_zaaUUSTLMpl"
      },
      "execution_count": null,
      "outputs": []
    },
    {
      "cell_type": "code",
      "source": [
        "print(title_df_clean.shape)"
      ],
      "metadata": {
        "id": "yoCvfmVVnhvA"
      },
      "execution_count": null,
      "outputs": []
    },
    {
      "cell_type": "code",
      "source": [
        "credits_duplicates = credits_df.duplicated().sum()\n",
        "print(f\"Duplicate rows in credits.csv: {credits_duplicates}\")"
      ],
      "metadata": {
        "id": "TOVmnXqjLw_p"
      },
      "execution_count": null,
      "outputs": []
    },
    {
      "cell_type": "code",
      "source": [
        "credits_df_clean = credits_df.drop_duplicates()"
      ],
      "metadata": {
        "id": "OZk8NDRrLxJk"
      },
      "execution_count": null,
      "outputs": []
    },
    {
      "cell_type": "code",
      "source": [
        "print(credits_df_clean.shape)"
      ],
      "metadata": {
        "id": "7pNpBCyIn-1h"
      },
      "execution_count": null,
      "outputs": []
    },
    {
      "cell_type": "markdown",
      "source": [
        "#### Missing Values/Null Values"
      ],
      "metadata": {
        "id": "PoPl-ycgm1ru"
      }
    },
    {
      "cell_type": "code",
      "source": [
        "# Missing Values/Null Values Count\n",
        "print(title_df_clean.isnull().sum())\n"
      ],
      "metadata": {
        "id": "GgHWkxvamxVg"
      },
      "execution_count": null,
      "outputs": []
    },
    {
      "cell_type": "code",
      "source": [
        "#Handling missing value\n",
        "#Description column\n",
        "title_df_clean['description'] = title_df_clean['description'].fillna(\"No Description Available\")\n",
        "#age_certification column\n",
        "title_df_clean['age_certification'] = title_df_clean['age_certification'].fillna('Unknown')\n",
        "#seasons column\n",
        "title_df_clean['seasons'] = title_df_clean['seasons'].fillna(0).astype(int)\n",
        "#imdb_id column\n",
        "title_df_clean['imdb_id'] = title_df_clean['imdb_id'].fillna(\"Unknown\")\n",
        "#imdb_votes column\n",
        "title_df_clean['imdb_votes']=title_df_clean['imdb_votes'].fillna(0)\n",
        "#tmdb_popularity column\n",
        "title_df_clean['tmdb_popularity']=title_df_clean['tmdb_popularity'].fillna(0)\n",
        "\n",
        "\n"
      ],
      "metadata": {
        "collapsed": true,
        "id": "VfTuTSuqorpj"
      },
      "execution_count": null,
      "outputs": []
    },
    {
      "cell_type": "code",
      "source": [
        "print(title_df_clean.isnull().sum())"
      ],
      "metadata": {
        "id": "WxtDp0ERrTVI"
      },
      "execution_count": null,
      "outputs": []
    },
    {
      "cell_type": "code",
      "source": [
        "\n",
        "title_df_clean['release_year'].value_counts().sort_index().head(10)\n",
        "\n",
        "\n",
        "\n"
      ],
      "metadata": {
        "id": "A1Qtq7Xm2iZP"
      },
      "execution_count": null,
      "outputs": []
    },
    {
      "cell_type": "code",
      "source": [
        "print(credits_df_clean.isnull().sum())"
      ],
      "metadata": {
        "id": "OM6qnSCCOYh7"
      },
      "execution_count": null,
      "outputs": []
    },
    {
      "cell_type": "code",
      "source": [
        "#handle missing value for credits dataset\n",
        "#character column\n",
        "credits_df_clean['character'] = credits_df_clean['character'].fillna('Not Applicable')"
      ],
      "metadata": {
        "id": "XSL00Ich1OFJ"
      },
      "execution_count": null,
      "outputs": []
    },
    {
      "cell_type": "code",
      "source": [
        "print(credits_df_clean.isnull().sum())"
      ],
      "metadata": {
        "id": "m8dlrUHI1vqC"
      },
      "execution_count": null,
      "outputs": []
    },
    {
      "cell_type": "code",
      "source": [
        "print(title_df_clean.shape)"
      ],
      "metadata": {
        "id": "EYH2OgzTqOPZ"
      },
      "execution_count": null,
      "outputs": []
    },
    {
      "cell_type": "code",
      "source": [
        "print(credits_df_clean.shape)"
      ],
      "metadata": {
        "id": "IQk34pPkqXhC"
      },
      "execution_count": null,
      "outputs": []
    },
    {
      "cell_type": "markdown",
      "source": [
        "### What did you know about your dataset?"
      ],
      "metadata": {
        "id": "H0kj-8xxnORC"
      }
    },
    {
      "cell_type": "markdown",
      "source": [
        "The dataset given is a datasets from Amazon prime shows and movies, and we have to analysis the titles of TV shows and movies names and also the cast of this titles.\n",
        "Both title.csv and credits.csv were checked for missing and duplicate values. Missing values were handled appropriately, and duplicates were removed to ensure data quality and consistency.\n",
        "\n",
        "The above dataset has 9868 rows and 15 columns in titles.csv and 124179 rows and 5 columns in credit.csv)"
      ],
      "metadata": {
        "id": "gfoNAAC-nUe_"
      }
    },
    {
      "cell_type": "markdown",
      "source": [
        "## ***2. Understanding Your Variables***"
      ],
      "metadata": {
        "id": "nA9Y7ga8ng1Z"
      }
    },
    {
      "cell_type": "code",
      "source": [
        "# Dataset Columns\n",
        "title_df_clean.columns\n"
      ],
      "metadata": {
        "id": "j7xfkqrt5Ag5"
      },
      "execution_count": null,
      "outputs": []
    },
    {
      "cell_type": "code",
      "source": [
        "credits_df_clean.columns"
      ],
      "metadata": {
        "id": "qdT5vIY0R-r5"
      },
      "execution_count": null,
      "outputs": []
    },
    {
      "cell_type": "code",
      "source": [
        "# Dataset Describe\n",
        "title_df_clean.describe()\n"
      ],
      "metadata": {
        "id": "DnOaZdaE5Q5t"
      },
      "execution_count": null,
      "outputs": []
    },
    {
      "cell_type": "code",
      "source": [
        "credits_df_clean.describe()"
      ],
      "metadata": {
        "id": "MurIx2b-SeHz"
      },
      "execution_count": null,
      "outputs": []
    },
    {
      "cell_type": "markdown",
      "source": [
        "### Variables Description"
      ],
      "metadata": {
        "id": "PBTbrJXOngz2"
      }
    },
    {
      "cell_type": "markdown",
      "source": [
        "  #### Title.csv\n",
        "1. id: The title ID on JustWatch\n",
        "2. title: The name of the title.\n",
        "3. show_type: TV show or movie.\n",
        "4. description: A brief description.\n",
        "5. release_year: The release year.\n",
        "6. age_certification: The age certification.\n",
        "7. runtime: The length of the episode (SHOW) or movie.\n",
        "8. genres: A list of genres.\n",
        "9. production_countries: A list of countries that produced the title.\n",
        "10. seasons: Number of seasons if it's a SHOW.\n",
        "11. imdb_id: The title ID on IMDB.\n",
        "12. imdb_score: Score on IMDB.\n",
        "13. imdb_votes: Votes on IMDB.\n",
        "14. tmdb_popularity: Popularity on TMDB.\n",
        "15. tmdb_score: Score on TMDB.\n",
        "\n",
        "\n",
        "#### credits.csv\n",
        "1. person_ID: The person ID on JustWatch.\n",
        "2. id: The title ID on JustWatch.\n",
        "3. name: The actor or director's name.\n",
        "4. character_name: The character name.\n",
        "5. role: ACTOR or DIRECTOR."
      ],
      "metadata": {
        "id": "aJV4KIxSnxay"
      }
    },
    {
      "cell_type": "markdown",
      "source": [
        "### Check Unique Values for each variable."
      ],
      "metadata": {
        "id": "u3PMJOP6ngxN"
      }
    },
    {
      "cell_type": "code",
      "source": [
        "#checking unique value for each variable.\n",
        "title_df_clean.nunique()"
      ],
      "metadata": {
        "id": "Prn6FQB1YhnI"
      },
      "execution_count": null,
      "outputs": []
    },
    {
      "cell_type": "code",
      "source": [
        "for col in title_df_clean.columns:\n",
        "    print(f\"\\nColumn: {col}\")\n",
        "    print(title_df_clean[col].unique()[:10])   # show first 10 unique values\n",
        "    print(\"Total unique:\", title_df_clean[col].nunique())\n"
      ],
      "metadata": {
        "id": "kcfMVwjHsqsI"
      },
      "execution_count": null,
      "outputs": []
    },
    {
      "cell_type": "code",
      "source": [
        "#checking unique value for each variable.\n",
        "credits_df_clean.nunique()"
      ],
      "metadata": {
        "id": "k2Pio83Ivdh8"
      },
      "execution_count": null,
      "outputs": []
    },
    {
      "cell_type": "code",
      "source": [
        "# Check Unique Values for each variable.\n",
        "for col in credits_df_clean.columns:\n",
        "    print(f\"\\nColumn: {col}\")\n",
        "    print(credits_df_clean[col].unique()[:20])   # show first 10 unique values\n",
        "    print(\"Total unique:\", credits_df_clean[col].nunique())\n",
        "\n"
      ],
      "metadata": {
        "id": "zms12Yq5n-jE"
      },
      "execution_count": null,
      "outputs": []
    },
    {
      "cell_type": "markdown",
      "source": [],
      "metadata": {
        "id": "WontlwAtVdrp"
      }
    },
    {
      "cell_type": "markdown",
      "source": [
        "## 3. ***Data Wrangling***"
      ],
      "metadata": {
        "id": "dauF4eBmngu3"
      }
    },
    {
      "cell_type": "markdown",
      "source": [
        "### Data Wrangling Code"
      ],
      "metadata": {
        "id": "bKJF3rekwFvQ"
      }
    },
    {
      "cell_type": "code",
      "source": [
        "#Create a release_date column from release year.\n",
        "title_df_clean['release_date'] = pd.to_datetime(title_df_clean['release_year'].astype(str) + '-01-01')"
      ],
      "metadata": {
        "id": "1gs0KCdvv_So"
      },
      "execution_count": null,
      "outputs": []
    },
    {
      "cell_type": "code",
      "source": [
        "# Insert 'release_date' right after 'release_year'\n",
        "cols = list(title_df_clean.columns)\n",
        "cols.remove('release_date')\n",
        "year_index = cols.index('release_year')\n",
        "cols.insert(year_index + 1, 'release_date')\n",
        "title_df_clean = title_df_clean[cols]\n",
        "title_df_clean.head()\n"
      ],
      "metadata": {
        "id": "inlDYwaGyk8v"
      },
      "execution_count": null,
      "outputs": []
    },
    {
      "cell_type": "code",
      "source": [
        "print(title_df_clean.head())"
      ],
      "metadata": {
        "id": "jicvuQm4xCb0"
      },
      "execution_count": null,
      "outputs": []
    },
    {
      "cell_type": "code",
      "source": [
        "#Create separate actors and directors columns .\n",
        "# Actors\n",
        "Actor_df = credits_df_clean[credits_df_clean['role'] == 'ACTOR'] \\\n",
        "    .groupby(\"id\")['name'] \\\n",
        "    .apply(lambda x: ', '.join(sorted(set(x.dropna().astype(str))))) \\\n",
        "    .reset_index(name=\"ACTOR\")\n",
        "\n",
        "# directors\n",
        "director_df = credits_df_clean[credits_df_clean['role'] != 'ACTOR'] \\\n",
        "    .groupby(\"id\")['name'] \\\n",
        "    .apply(lambda x: ', '.join(sorted(set(x.dropna().astype(str))))) \\\n",
        "    .reset_index(name=\"Director\")\n",
        "\n",
        "\n",
        "New_credits_df= pd.merge(Actor_df, director_df, on=\"id\", how=\"outer\")"
      ],
      "metadata": {
        "id": "wDDLjKE7q8SZ"
      },
      "execution_count": null,
      "outputs": []
    },
    {
      "cell_type": "code",
      "source": [
        "print(New_credits_df)"
      ],
      "metadata": {
        "id": "fgOZNWVrqAss"
      },
      "execution_count": null,
      "outputs": []
    },
    {
      "cell_type": "code",
      "source": [
        "\n",
        "# Write your code to make your dataset analysis ready.\n",
        "# Reset index after cleaning\n",
        "title_df_clean.reset_index(drop=True, inplace=True)\n",
        "New_credits_df.reset_index(drop=True, inplace=True)\n",
        "\n",
        "# Merge on 'id' column\n",
        "merged_df = pd.merge(title_df_clean, New_credits_df, on='id', how='left')\n",
        "\n",
        "print(\"Merged DataFrame Shape:\", merged_df.shape)"
      ],
      "metadata": {
        "id": "wk-9a2fpoLcV"
      },
      "execution_count": null,
      "outputs": []
    },
    {
      "cell_type": "code",
      "source": [
        "print(merged_df.head())"
      ],
      "metadata": {
        "id": "xi3H9S3ImW7N"
      },
      "execution_count": null,
      "outputs": []
    },
    {
      "cell_type": "markdown",
      "source": [
        "### What all manipulations have you done and insights you found?"
      ],
      "metadata": {
        "id": "MSa1f5Uengrz"
      }
    },
    {
      "cell_type": "markdown",
      "source": [
        "According to my understanding I have done following manipulation in datasets,\n",
        "\n",
        "1. Loaded Data:Imported title.csv and credits.csv using pandas.\n",
        "\n",
        "2. Duplicate Removal:Used drop_duplicates() to remove duplicate records from both datasets.\n",
        "\n",
        "3. Null Value Treatment:Checked missing values using isnull().sum().\n",
        "\n",
        "4. Dropped Unnecessary Columns:Removed seasons and age_certification from the title dataset.\n",
        "\n",
        "5. Checked Unique Values:For each column, the number of unique values was counted to understand data diversity and structure.\n",
        "\n",
        "6. Reset Index:Reset the index after cleaning for a cleaner dataframe structure.\n",
        "\n",
        "7.Merged Data:Used pd.merge() on id column to combine title and credits datasets for joint analysis."
      ],
      "metadata": {
        "id": "LbyXE7I1olp8"
      }
    },
    {
      "cell_type": "markdown",
      "source": [
        "I have also found some insights in datasets as follow:\n",
        "\n",
        "1. Content Type Distribution: The dataset contains both TV shows and movies.\n",
        "   Most entries are of type = Movie, suggesting Amazon Prime focuses more on movies.\n",
        "\n",
        "2. Genre Variety :The genres column often contains multiple genres separated by commas.By checking unique genre combinations, we found that Drama, Comedy, and Romance are the most frequent genres.\n",
        "\n",
        "3. IMDb Score :The avg IMDb score is around 5.9 ,mostly range from 5.0 to 8.5, suggesting a moderate to high quality of content.A few titles have ratings above 9, which may be Amazon Originals or critically acclaimed shows.\n",
        "\n",
        "4. Data Range:The content spans multiple decades.The release_year ranges from the early 1912s to recent years — showing Amazon Prime hosts both old classics and new releases.\n",
        "\n",
        "5. Unnecessary or Low-Value Columns: Columns like age_certification and seasons were either sparse or not useful for this analysis, so they were dropped.\n",
        "\n",
        "6. Unique Value Check: Helped identify categorical vs numerical variable.Useful for deciding how to group or filter data in visualizations later.\n",
        "\n",
        "7. Credits Dataset Insights: The credits.csv file includes person_id,name,character, role, and id.Many actors and directors have worked on multiple titles, which can help identify frequently featured artists."
      ],
      "metadata": {
        "id": "wBNtVKB7hR52"
      }
    },
    {
      "cell_type": "markdown",
      "source": [
        "## ***4. Data Vizualization, Storytelling & Experimenting with charts : Understand the relationships between variables***"
      ],
      "metadata": {
        "id": "GF8Ens_Soomf"
      }
    },
    {
      "cell_type": "markdown",
      "source": [
        "#### Chart 1-pie chart"
      ],
      "metadata": {
        "id": "0wOQAZs5pc--"
      }
    },
    {
      "cell_type": "code",
      "source": [
        "# Count Movies vs TV Shows\n",
        "type_counts = merged_df['type'].value_counts()\n",
        "print(type_counts)\n",
        "\n",
        "# Create pie chart\n",
        "plt.figure(figsize=(6,6))\n",
        "plt.pie(type_counts,\n",
        "        labels=type_counts.index,\n",
        "        autopct='%1.1f%%',\n",
        "        startangle=90,\n",
        "        colors=['skyblue','tomato'],\n",
        "        wedgeprops={'edgecolor':'black'})\n",
        "\n",
        "plt.title(\"Movies vs TV Shows on Amazon Prime\", fontsize=15, fontweight='bold')\n",
        "plt.show()\n"
      ],
      "metadata": {
        "id": "R4YgtaqtYklH"
      },
      "execution_count": null,
      "outputs": []
    },
    {
      "cell_type": "markdown",
      "source": [
        "##### 1. Why did you pick the specific chart?"
      ],
      "metadata": {
        "id": "K5QZ13OEpz2H"
      }
    },
    {
      "cell_type": "markdown",
      "source": [
        "\n",
        "1.   Quick snapshot of the platform content mix.\n",
        "\n",
        "2.   Useful for answering “Does Prime focus more on Movies or TV Show?.\n",
        "\n",
        "\n",
        "\n"
      ],
      "metadata": {
        "id": "XESiWehPqBRc"
      }
    },
    {
      "cell_type": "markdown",
      "source": [
        "##### 2. What is/are the insight(s) found from the chart?"
      ],
      "metadata": {
        "id": "lQ7QKXXCp7Bj"
      }
    },
    {
      "cell_type": "markdown",
      "source": [
        "\n",
        "1.   Shows the proportion of movies vs TV shows on Amazon Prime.\n",
        "\n",
        "2.   Movies are dominating on TV Shows,This suggests Amazon is more focused on building a movie-heavy library than long-form episodic content..\n",
        "\n"
      ],
      "metadata": {
        "id": "C_j1G7yiqdRP"
      }
    },
    {
      "cell_type": "markdown",
      "source": [
        "##### 3. Will the gained insights help creating a positive business impact?\n",
        "Are there any insights that lead to negative growth? Justify with specific reason."
      ],
      "metadata": {
        "id": "448CDAPjqfQr"
      }
    },
    {
      "cell_type": "markdown",
      "source": [
        "Yes, the gained insights can help create a positive business impact like:\n",
        "\n",
        "1.   A large movie library attracts casual viewers who prefer short, 2–3 hour content.\n",
        "\n",
        "2.   Movies help Amazon compete directly with Netflix and Disney+ for blockbuster releases.\n",
        "\n",
        "3.   A wide selection of movies increases variety and choice, appealing to a broad audience.\n",
        "\n",
        "\n",
        "**Negative Impact**:\n",
        "\n",
        "\n",
        "1.   TV Shows usually drive longer user engagement and retention (since episodes keep people coming back).\n",
        "\n",
        "2.   By underinvesting in TV Shows, Amazon risks losing subscribers who prefer binge-worthy series like those on Netflix or Disney+.\n",
        "\n",
        "\n",
        "So in short, Movies dominate, which is good for attracting viewers, but Amazon should balance with more high-quality TV Shows to keep subscribers engaged long-term.\n",
        "\n",
        "\n",
        "\n",
        "\n",
        "\n",
        "\n",
        "\n",
        "\n",
        "\n",
        "\n"
      ],
      "metadata": {
        "id": "3cspy4FjqxJW"
      }
    },
    {
      "cell_type": "markdown",
      "source": [
        "#### Chart 2-linechart"
      ],
      "metadata": {
        "id": "KSlN3yHqYklG"
      }
    },
    {
      "cell_type": "code",
      "source": [
        "#  Trends Over Time\n",
        "import matplotlib.pyplot as plt\n",
        "\n",
        "# Count number of titles per year\n",
        "titles_per_year = merged_df['release_date'].value_counts().sort_index()\n",
        "\n",
        "# Plot\n",
        "plt.figure(figsize=(12,6))\n",
        "plt.plot(titles_per_year.index, titles_per_year.values, marker='o')\n",
        "plt.xlabel(\"Release Year\")\n",
        "plt.ylabel(\"Number of Titles\")\n",
        "plt.title(\"Trends Over Time: Number of Titles on Amazon Prime Video by Release Year\")\n",
        "plt.grid(True)\n",
        "plt.tight_layout()\n",
        "plt.show()\n"
      ],
      "metadata": {
        "id": "t6GMdE67YoAp"
      },
      "execution_count": null,
      "outputs": []
    },
    {
      "cell_type": "markdown",
      "source": [
        "##### 1. Why did you pick the specific chart?"
      ],
      "metadata": {
        "id": "t6dVpIINYklI"
      }
    },
    {
      "cell_type": "markdown",
      "source": [
        "\n",
        "\n",
        "1.   Shows growth & evolution of content library.\n",
        "\n",
        "\n",
        "2.   Helps spot if Prime is adding more content recently or had peak years.\n",
        "\n"
      ],
      "metadata": {
        "id": "5aaW0BYyYklI"
      }
    },
    {
      "cell_type": "markdown",
      "source": [
        "##### 2. What is/are the insight(s) found from the chart?"
      ],
      "metadata": {
        "id": "ijmpgYnKYklI"
      }
    },
    {
      "cell_type": "markdown",
      "source": [
        "\n",
        "1.   From 2000 onwards, the number of titles released on Amazon Prime shows a gradual increase.\n",
        "\n",
        "2.   After 2020,  showing a major expansion in content library.\n",
        "\n",
        "This suggests a strategic shift, likely to meet the increasing demand for streaming during and after COVID-19.\n",
        "\n",
        "\n"
      ],
      "metadata": {
        "id": "PSx9atu2YklI"
      }
    },
    {
      "cell_type": "markdown",
      "source": [
        "##### 3. Will the gained insights help creating a positive business impact?\n",
        "Are there any insights that lead to negative growth? Justify with specific reason."
      ],
      "metadata": {
        "id": "-JiQyfWJYklI"
      }
    },
    {
      "cell_type": "markdown",
      "source": [
        "**Positive Impact**\n",
        "\n",
        "1.   Subscriber Growth → More fresh titles attract new customers.\n",
        "\n",
        "2.   Global Market Push → The post-2020 spike may reflect Amazon’s investment in regional & international content, expanding its market share.\n",
        "\n",
        "\n",
        "\n",
        "**Negative Insights**\n",
        "\n",
        "1.   Content Discovery Issues → Too many titles can overwhelm users without a strong recommendation system, making it hard to find gems.\n",
        "2.   Unsustainable Growth → If the spike was temporary, users might feel content is slowing down in later years, hurting loyalty.\n",
        "\n",
        "So, the overall story is ,Amazon Prime steadily grew its content after 2000, but aggressively expanded post-2020, likely to capture streaming demand. While this boosted growth, Amazon must ensure quality + discoverability to avoid negative impact\n",
        "\n",
        "\n",
        "\n",
        "\n"
      ],
      "metadata": {
        "id": "BcBbebzrYklV"
      }
    },
    {
      "cell_type": "markdown",
      "source": [
        "#### Chart 3-bar chart"
      ],
      "metadata": {
        "id": "EM7whBJCYoAo"
      }
    },
    {
      "cell_type": "code",
      "source": [
        "## Explode genre column\n",
        "def safe_genre_list(x):\n",
        "    try:\n",
        "        # Case 1: if it's already a list\n",
        "        if isinstance(x, list):\n",
        "            return x\n",
        "\n",
        "        # Case 2: if it's a stringified list like \"['Drama', 'Action']\"\n",
        "        elif isinstance(x, str) and x.startswith('['):\n",
        "            return ast.literal_eval(x)\n",
        "\n",
        "        # Case 3: if it's a comma-separated string like 'Drama, Action'\n",
        "        elif isinstance(x, str):\n",
        "            return [i.strip() for i in x.split(',') if i.strip()]\n",
        "\n",
        "        # Case 4: if it's null or unrecognized\n",
        "        else:\n",
        "            return ['Unknown']\n",
        "    except:\n",
        "        return ['Unknown']\n",
        "\n",
        "# Apply to the DataFrame\n",
        "merged_df['genres'] = merged_df['genres'].apply(safe_genre_list)\n",
        "#explode genres\n",
        "exploded_genres = merged_df.explode('genres')\n",
        "#count genres frequency\n",
        "genre_counts = exploded_genres['genres'].value_counts().head(10)\n"
      ],
      "metadata": {
        "id": "cN2cj3FYg0uB"
      },
      "execution_count": null,
      "outputs": []
    },
    {
      "cell_type": "code",
      "source": [
        "# visualization code-Top 10 geners\n",
        "# Plot the top genres\n",
        "plt.figure(figsize=(10,6))\n",
        "sns.barplot(x=genre_counts.values, y=genre_counts.index)\n",
        "plt.title(\"Top 10 Dominant Genres on Amazon Prime Video\")\n",
        "plt.xlabel(\"Number of Titles\")\n",
        "plt.ylabel(\"Genres\")\n",
        "plt.tight_layout()\n",
        "plt.show()\n"
      ],
      "metadata": {
        "id": "JxAwms28i3dn"
      },
      "execution_count": null,
      "outputs": []
    },
    {
      "cell_type": "markdown",
      "source": [
        "##### 1. Why did you pick the specific chart?"
      ],
      "metadata": {
        "id": "QcH3m0rCxbit"
      }
    },
    {
      "cell_type": "markdown",
      "source": [
        "\n",
        "\n",
        "1.   Clear way to compare popularity of genres (Drama, Comedy etc).\n",
        "\n",
        "\n",
        "2.   Bar charts are best for categorical comparisons.\n",
        "\n"
      ],
      "metadata": {
        "id": "HKUPz9F60mJa"
      }
    },
    {
      "cell_type": "markdown",
      "source": [
        "##### 2. What is/are the insight(s) found from the chart?"
      ],
      "metadata": {
        "id": "A03QaDVox7eW"
      }
    },
    {
      "cell_type": "markdown",
      "source": [
        "\n",
        "1.   Drama is the most dominant genre on Amazon Prime, making it the top choice in the catalog.\n",
        "2.   After Drama, the next most common genres are Comedy, Thriller, Action, and Romance.\n",
        "3.   This indicates Amazon Prime’s focus on story-driven and emotional content, supported by lighter (Comedy) and engaging (Thriller/Action) genres.\n",
        "\n"
      ],
      "metadata": {
        "id": "FLeOtkoJ0Uqv"
      }
    },
    {
      "cell_type": "markdown",
      "source": [
        "##### 3. Will the gained insights help creating a positive business impact?\n",
        "Are there any insights that lead to negative growth? Justify with specific reason."
      ],
      "metadata": {
        "id": "nuuey4djzsnG"
      }
    },
    {
      "cell_type": "markdown",
      "source": [
        "**Positive Impact**\n",
        "\n",
        "\n",
        "1.   Wide Audience  → in Drama and Comedy have broad reach across age groups and regions.\n",
        "2.   Strong Engagement → Thriller and Action genres drive binge-watching and high excitement.\n",
        "\n",
        "\n",
        "\n",
        "**Negative Impact**\n",
        "\n",
        "1.   Over-saturation of Drama → Too much focus on Drama may reduce variety, making users feel the catalog lacks freshness.\n",
        "\n",
        "\n",
        "2.   Underrepresentation of other genres → Genres like European, Family, Horror, or Documentaries may be limited, meaning Prime might miss opportunities in fast-growing niche markets.\n",
        "\n",
        "Drama dominates Amazon Prime’s catalog, supported by Comedy, Thriller, Action, and Romance. This strengthens broad appeal but also risks genre saturation unless Prime diversifies into emerging genres\n",
        "\n",
        "\n",
        "\n",
        "\n"
      ],
      "metadata": {
        "id": "KTxJ1V0VzUgc"
      }
    },
    {
      "cell_type": "markdown",
      "source": [
        "#### Chart 4-Toggle vertical bar chart"
      ],
      "metadata": {
        "id": "UETtUIsjj0d7"
      }
    },
    {
      "cell_type": "code",
      "source": [
        "# --- Prepare data  ---\n",
        "# Ensure missing certs are labeled\n",
        "merged_df['age_certification'] = merged_df['age_certification'].fillna(\"Unknown\")\n",
        "\n",
        "# Order categories by overall frequency\n",
        "age_order = merged_df['age_certification'].value_counts().index.tolist()\n",
        "\n",
        "# counts by age_certification and type\n",
        "counts = (merged_df\n",
        "          .groupby(['age_certification', 'type'])\n",
        "          .size()\n",
        "          .unstack(fill_value=0)\n",
        "          .reindex(age_order))\n",
        "\n",
        "# overall counts (sum across types)\n",
        "counts['All'] = counts.sum(axis=1)\n",
        "\n",
        "# percentages relative to column totals (so percent within each type column)\n",
        "pct = counts.divide(counts.sum(axis=0), axis=1) * 100\n",
        "\n",
        "# Build traces (one trace per column: Movies, TV Show, All)\n",
        "cols = counts.columns.tolist()   # e.g. ['Movie', 'TV Show', 'All'] depending on your 'type' values\n",
        "fig = go.Figure()\n",
        "\n",
        "for col in cols:\n",
        "    fig.add_trace(\n",
        "        go.Bar(\n",
        "            x=counts.index,\n",
        "            y=counts[col],\n",
        "            name=str(col),\n",
        "            visible=True if col == cols[0] else True   # we will toggle overall view via buttons\n",
        "        )\n",
        "    )\n",
        "\n",
        "# Add second set of traces for percentages (same order)\n",
        "for col in cols:\n",
        "    fig.add_trace(\n",
        "        go.Bar(\n",
        "            x=pct.index,\n",
        "            y=pct[col],\n",
        "            name=str(col) + \" (%)\",\n",
        "            visible=False  # start hidden; will be shown when \"Percent\" button clicked\n",
        "        )\n",
        "    )\n",
        "\n",
        "# Buttons: show Count traces (first len(cols) traces) or Percent traces (next len(cols) traces)\n",
        "n = len(cols)\n",
        "buttons = [\n",
        "    dict(\n",
        "        label=\"Count\",\n",
        "        method=\"update\",\n",
        "        args=[{\"visible\": [True]*n + [False]*n},\n",
        "              {\"yaxis\": {\"title\": \"Number of Titles\"},\n",
        "               \"title\": \"Age Certification Distribution — Counts\"}]\n",
        "    ),\n",
        "    dict(\n",
        "        label=\"Percent\",\n",
        "        method=\"update\",\n",
        "        args=[{\"visible\": [False]*n + [True]*n},\n",
        "              {\"yaxis\": {\"title\": \"Percentage (%)\"},\n",
        "               \"title\": \"Age Certification Distribution — Percentages\"}]\n",
        "    ),\n",
        "]\n",
        "\n",
        "# Layout\n",
        "fig.update_layout(\n",
        "    updatemenus=[\n",
        "        dict(\n",
        "            type=\"buttons\",\n",
        "            buttons=buttons,\n",
        "            direction=\"left\",\n",
        "            pad={\"r\": 10, \"t\": 10},\n",
        "            showactive=True,\n",
        "            x=0.0,\n",
        "            xanchor=\"left\",\n",
        "            y=1.15,\n",
        "            yanchor=\"top\"\n",
        "        ),\n",
        "    ],\n",
        "    barmode='group',\n",
        "    title=\"Age Certification Distribution — Counts\",\n",
        "    xaxis_title=\"Age Certification\",\n",
        "    yaxis_title=\"Number of Titles\",\n",
        "    legend_title=\"Type\",\n",
        "    template=\"plotly_white\",\n",
        "    width=900,\n",
        "    height=500\n",
        ")\n",
        "\n",
        "fig.update_xaxes(tickangle=45)\n",
        "fig.show()\n",
        "\n"
      ],
      "metadata": {
        "id": "lOMG891ojtMZ"
      },
      "execution_count": null,
      "outputs": []
    },
    {
      "cell_type": "markdown",
      "source": [
        "##### 1. Why did you pick the specific chart?"
      ],
      "metadata": {
        "id": "fge-S5ZAYoAp"
      }
    },
    {
      "cell_type": "markdown",
      "source": [
        "\n",
        "\n",
        "1.   Shows how much content is family-friendly vs adult-oriented.\n",
        "\n",
        "\n",
        "2.   Toggle (Counts vs Percentages) adds flexibility → absolute numbers + proportions.\n",
        "\n"
      ],
      "metadata": {
        "id": "5dBItgRVYoAp"
      }
    },
    {
      "cell_type": "markdown",
      "source": [
        "##### 2. What is/are the insight(s) found from the chart?"
      ],
      "metadata": {
        "id": "85gYPyotYoAp"
      }
    },
    {
      "cell_type": "markdown",
      "source": [
        "1.   A large share of titles fall into the Unknown certification category.\n",
        "\n",
        "2.   Movies are assigned certifications such as R, PG-13, PG, and G.\n",
        "\n",
        "3.   TV Shows are assigned TV-specific ratings such as TV-MA, TV-14, TV-PG, TV-Y, TV-G, and TV-Y7.\n",
        "\n",
        "This shows that Amazon Prime uses different rating systems for movies and TV shows, reflecting global standards (MPAA for movies, TV Parental Guidelines for shows).\n",
        "\n",
        "\n",
        "\n"
      ],
      "metadata": {
        "id": "4jstXR6OYoAp"
      }
    },
    {
      "cell_type": "markdown",
      "source": [
        "##### 3. Will the gained insights help creating a positive business impact?\n",
        "Are there any insights that lead to negative growth? Justify with specific reason."
      ],
      "metadata": {
        "id": "RoGjAbkUYoAp"
      }
    },
    {
      "cell_type": "markdown",
      "source": [
        "**Positive Business Impact**:\n",
        "1. The growth up to 2019 likely increased subscriber attraction and retention, as a bigger library appeals to diverse audiences.\n",
        "2. A large content pool also supports regional expansion, offering localized titles to cater to different markets.\n",
        "\n",
        "**Negative Impact**:\n",
        "1. The sharp decline after 2019 could harm subscriber engagement if users feel the catalog is shrinking or less diverse.\n",
        "2. If the reduced catalog isn’t offset by strong original programming, it may lead to subscriber churn and negative growth."
      ],
      "metadata": {
        "id": "zfJ8IqMcYoAp"
      }
    },
    {
      "cell_type": "markdown",
      "source": [
        "#### Chart 5 -*Histogram*"
      ],
      "metadata": {
        "id": "4Of9eVA-YrdM"
      }
    },
    {
      "cell_type": "code",
      "source": [
        "#imdb score distrubution\n",
        "plt.figure(figsize=(10,6))\n",
        "plt.hist(title_df_clean['imdb_score'].dropna(), bins=20, color='skyblue', edgecolor='black')\n",
        "\n",
        "plt.title(\"IMDb Score Distribution\", fontsize=14, fontweight='bold')\n",
        "plt.xlabel(\"IMDb Score\")\n",
        "plt.ylabel(\"Number of Titles\")\n",
        "plt.grid(axis='y', linestyle='--', alpha=0.6)\n",
        "plt.show()\n",
        "\n"
      ],
      "metadata": {
        "id": "zXmtBDsrkJW6"
      },
      "execution_count": null,
      "outputs": []
    },
    {
      "cell_type": "markdown",
      "source": [
        "##### 1. Why did you pick the specific chart?"
      ],
      "metadata": {
        "id": "2slfKVMUxl2Q"
      }
    },
    {
      "cell_type": "markdown",
      "source": [
        "\n",
        "\n",
        "1.   Best way to see audience rating spread.\n",
        "\n",
        "\n",
        "2.   Helps identify if Prime content is generally well-rated or mixed.\n",
        "\n"
      ],
      "metadata": {
        "id": "OGCgRxYbytiU"
      }
    },
    {
      "cell_type": "markdown",
      "source": [
        "##### 2. What is/are the insight(s) found from the chart?"
      ],
      "metadata": {
        "id": "yGhe8ikvyqe3"
      }
    },
    {
      "cell_type": "markdown",
      "source": [
        "\n",
        "1.   Most titles are rated between 5 and 7, showing that the majority of Amazon Prime content falls in the average-to-good range.\n",
        "\n",
        "2.   Very few titles are below 3 (poorly rated) or above 8 (exceptionally rated).\n",
        "\n",
        "3.   The distribution is roughly bell-shaped, peaking around 6.\n",
        "\n"
      ],
      "metadata": {
        "id": "QAnzQzAuyqbf"
      }
    },
    {
      "cell_type": "markdown",
      "source": [
        "##### 3. Will the gained insights help creating a positive business impact?\n",
        "Are there any insights that lead to negative growth? Justify with specific reason."
      ],
      "metadata": {
        "id": "VdiL0CCz0E4J"
      }
    },
    {
      "cell_type": "markdown",
      "source": [
        "**Positive Impact**\n",
        "\n",
        "1.   Shows/movies with higher IMDb scores (7+) can be highlighted in recommendations to attract and retain quality-seeking viewers.\n",
        "\n",
        "2.   Identifying low-rated content (<3) allows Amazon to phase out or improve recommendations for those titles.\n",
        "\n",
        "\n",
        "**Negative Impact**\n",
        "\n",
        "1.   The lack of highly rated content (>8) may reduce Amazon Prime’s competitiveness against rivals like Netflix or Disney+, which emphasize critically acclaimed shows.\n",
        "\n",
        "2.   Over-concentration in average ratings (5–7) could make the platform feel less exciting for premium subscribers who expect more high-quality shows.\n",
        "\n",
        "\n",
        "\n"
      ],
      "metadata": {
        "id": "4YYg_asj1uUc"
      }
    },
    {
      "cell_type": "markdown",
      "source": [
        "#### Chart 6 -pairplot"
      ],
      "metadata": {
        "id": "gxO2pmVG1KDM"
      }
    },
    {
      "cell_type": "code",
      "source": [
        "# Select numerical columns of interest\n",
        "num_cols = [\"imdb_score\", \"imdb_votes\", \"tmdb_popularity\", \"tmdb_score\"]\n",
        "\n",
        "# Pairplot with hue (Movies vs TV Shows)\n",
        "sns.pairplot(merged_df[num_cols + [\"type\"]], hue=\"type\", palette=\"Set2\", diag_kind=\"kde\")\n",
        "plt.show()"
      ],
      "metadata": {
        "id": "8NlQWRNomQEk"
      },
      "execution_count": null,
      "outputs": []
    },
    {
      "cell_type": "markdown",
      "source": [
        "##### 1. Why did you pick the specific chart?"
      ],
      "metadata": {
        "id": "iky9q4vBYrdO"
      }
    },
    {
      "cell_type": "markdown",
      "source": [
        "\n",
        "\n",
        "1.   Explores how ratings, votes, and popularity interact.\n",
        "\n",
        "\n",
        "2.   Hue (Movies vs TV Shows) lets us compare both categories simultaneously.\n",
        "\n"
      ],
      "metadata": {
        "id": "uiKhmmY_1kDe"
      }
    },
    {
      "cell_type": "markdown",
      "source": [
        "##### 2. What is/are the insight(s) found from the chart?"
      ],
      "metadata": {
        "id": "F6T5p64dYrdO"
      }
    },
    {
      "cell_type": "markdown",
      "source": [
        "\n",
        "1.   Movies generally receive more votes and popularity spikes compared to TV shows, suggesting larger one-time audience engagement.\n",
        "\n",
        "2.   IMDb and TMDB scores are positively correlated → a highly rated movie/show on one platform is usually rated high on the other.\n",
        "\n",
        "3.   TV shows form separate clusters with moderate popularity and steadier rating trends → indicates consistent but smaller viewer groups.\n",
        "\n",
        "4.   Outliers exist:\n",
        "\n",
        "     a.Some movies are highly popular but not highly rated (overhyped titles).\n",
        "\n",
        "     b.Some are highly rated but low popularity (hidden gems).\n",
        "\n",
        "\n",
        "\n",
        "\n",
        "\n"
      ],
      "metadata": {
        "id": "jq9MJB7X1lZo"
      }
    },
    {
      "cell_type": "markdown",
      "source": [
        "##### 3. Will the gained insights help creating a positive business impact?\n",
        "Are there any insights that lead to negative growth? Justify with specific reason."
      ],
      "metadata": {
        "id": "y-Ehk30pYrdP"
      }
    },
    {
      "cell_type": "markdown",
      "source": [
        "**Positive Impact**\n",
        "\n",
        "1. Helps platforms identify hidden gems (high ratings but low popularity) → these can be promoted to boost engagement.\n",
        "\n",
        "2. Understanding different audience patterns for Movies vs TV Shows can guide better content recommendations and marketing strategy\n",
        "\n",
        "**Negative Impact**\n",
        "\n",
        "1.   Overhyped but poorly rated titles may lead to viewer dissatisfaction, causing churn.\n",
        "\n",
        "2.   Heavy clustering of TV shows in moderate popularity zones may indicate difficulty in achieving blockbuster hits for TV compared to movies.\n",
        "\n",
        "\n",
        "\n"
      ],
      "metadata": {
        "id": "Gj9w5SN81mOl"
      }
    },
    {
      "cell_type": "markdown",
      "source": [
        "#### Chart 7-Scatter Plot"
      ],
      "metadata": {
        "id": "bamQiAODYuh1"
      }
    },
    {
      "cell_type": "code",
      "source": [
        "#IMDb Score vs IMDb Votes\n",
        "plt.figure(figsize=(10,6))\n",
        "plt.scatter(title_df_clean['imdb_score'], title_df_clean['imdb_votes'], alpha=0.5, color='teal')\n",
        "\n",
        "plt.title(\"IMDb Score vs IMDb Votes\", fontsize=14, fontweight='bold')\n",
        "plt.xlabel(\"IMDb Score\")\n",
        "plt.ylabel(\"IMDb Votes\")\n",
        "plt.grid(True, linestyle='--', alpha=0.6)\n",
        "plt.show()\n",
        "\n"
      ],
      "metadata": {
        "id": "0lJz2FnbOxiL"
      },
      "execution_count": null,
      "outputs": []
    },
    {
      "cell_type": "markdown",
      "source": [
        "##### 1. Why did you pick the specific chart?"
      ],
      "metadata": {
        "id": "QHF8YVU7Yuh3"
      }
    },
    {
      "cell_type": "markdown",
      "source": [
        "\n",
        "\n",
        "1.   Focuses on specific relationships.\n",
        "\n",
        "\n",
        "2.   Shows whether higher ratings mean more audience votes, or whether popularity aligns with quality.\n",
        "\n"
      ],
      "metadata": {
        "id": "dcxuIMRPYuh3"
      }
    },
    {
      "cell_type": "markdown",
      "source": [
        "##### 2. What is/are the insight(s) found from the chart?"
      ],
      "metadata": {
        "id": "GwzvFGzlYuh3"
      }
    },
    {
      "cell_type": "markdown",
      "source": [
        "1.   A cluster of titles with 700K–1.2M votes lies between 7 and 9 IMDb score.\n",
        "Suggests that popular, higher-quality titles attract both more viewers and more engagement.\n",
        "\n",
        "2.   Titles with scores below 5 generally have very low votes.\n",
        "\n",
        "3.   A few extreme points (700K–1.2M votes) mostly between 7–9 scores → these are mainstream blockbusters or hit shows.\n",
        "\n",
        "4.   The densest region is 5–8 IMDb score with moderate votes.This matches IMDb’s general distribution, where most titles fall in the middle."
      ],
      "metadata": {
        "id": "uyqkiB8YYuh3"
      }
    },
    {
      "cell_type": "markdown",
      "source": [
        "##### 3. Will the gained insights help creating a positive business impact?\n",
        "Are there any insights that lead to negative growth? Justify with specific reason."
      ],
      "metadata": {
        "id": "qYpmQ266Yuh3"
      }
    },
    {
      "cell_type": "markdown",
      "source": [
        "**Positive Impact**\n",
        "1.    High-score & high-vote titles drive engagement → These blockbusters bring in massive audience traffic and should be promoted heavily.\n",
        "\n",
        "2.    High-score but low-vote titles (hidden gems) → Opportunity for Amazon Prime to highlight these in recommendation systems or marketing campaigns to boost watch time.\n",
        "3.    Middle cluster (5–8 IMDb score) → Represents the bulk of the catalog. Ensuring steady availability of this type of content keeps a large base of viewers engaged.\n",
        "\n",
        "**Negative Impact**\n",
        "1.    Low-score titles with low votes → These underperforming titles may drag down platform reputation if surfaced in recommendations.\n",
        "\n",
        "2.    Overhyped titles (average score, very high votes) → Can create audience dissatisfaction if popularity doesn’t match quality."
      ],
      "metadata": {
        "id": "_WtzZ_hCYuh4"
      }
    },
    {
      "cell_type": "markdown",
      "source": [
        "#### Chart 8-correlation heatmap"
      ],
      "metadata": {
        "id": "74fSuyFu6Nq6"
      }
    },
    {
      "cell_type": "code",
      "source": [
        "import seaborn as sns\n",
        "\n",
        "# Select only numeric columns\n",
        "numeric_cols = title_df_clean.select_dtypes(include=['float64', 'int64'])\n",
        "\n",
        "plt.figure(figsize=(10,6))\n",
        "sns.heatmap(numeric_cols.corr(), annot=True, cmap=\"coolwarm\", fmt=\".2f\")\n",
        "\n",
        "plt.title(\"Correlation Heatmap of Numeric Features\", fontsize=14, fontweight='bold')\n",
        "plt.show()\n"
      ],
      "metadata": {
        "id": "kuRf4wtuphqN"
      },
      "execution_count": null,
      "outputs": []
    },
    {
      "cell_type": "markdown",
      "source": [
        "##### 1. Why did you pick the specific chart?"
      ],
      "metadata": {
        "id": "bbFf2-_FphqN"
      }
    },
    {
      "cell_type": "markdown",
      "source": [
        "\n",
        "\n",
        "1.   Condenses relationships into one easy-to-read correlation matrix.\n",
        "\n",
        "\n",
        "2.   Quickly highlights if some metrics are redundant or strongly linked.\n",
        "\n"
      ],
      "metadata": {
        "id": "loh7H2nzphqN"
      }
    },
    {
      "cell_type": "markdown",
      "source": [
        "##### 2. What is/are the insight(s) found from the chart?"
      ],
      "metadata": {
        "id": "_ouA3fa0phqN"
      }
    },
    {
      "cell_type": "markdown",
      "source": [
        "1.    IMDb Score & TMDb Score (0.58):Both rating systems generally agree, but not perfectly → audiences on IMDb and TMDb have slightly different scoring behavior.\n",
        "2.    IMDb Votes & TMDb Popularity (0.25):Popularity partly depends on votes but is also influenced by marketing, trending topics, or star power."
      ],
      "metadata": {
        "id": "VECbqPI7phqN"
      }
    },
    {
      "cell_type": "markdown",
      "source": [
        "##### 3. Will the gained insights help creating a positive business impact?\n",
        "Are there any insights that lead to negative growth? Justify with specific reason."
      ],
      "metadata": {
        "id": "Seke61FWphqN"
      }
    },
    {
      "cell_type": "markdown",
      "source": [
        "**Positive Impact**\n",
        "1.  Consistency across IMDb and TMDb scores helps validate audience opinions across platforms.\n",
        "\n",
        "2.  Weak correlation between votes and popularity suggests there are “hidden gems” (high scores, low popularity) that Amazon can promote.\n",
        "\n",
        "3.  Clear distinction between movies vs TV shows (runtime vs seasons) validates the dataset quality.\n",
        "\n",
        "**Negative Impact**\n",
        "1.  Popularity doesn’t always align with ratings → some titles may be overhyped but low-rated, leading to audience disappointment.\n",
        "\n",
        "2.  Low correlation between release year and ratings suggests new content is not guaranteed to perform better, so investment in newer titles is risky."
      ],
      "metadata": {
        "id": "DW4_bGpfphqN"
      }
    },
    {
      "cell_type": "markdown",
      "source": [
        "#### Chart 9-Bubble Chart"
      ],
      "metadata": {
        "id": "PIIx-8_IphqN"
      }
    },
    {
      "cell_type": "code",
      "source": [
        "#IMDb Ratings & Popularity: What are the highest-rated or most popular shows on the platform?\n",
        "import matplotlib.pyplot as plt\n",
        "\n",
        "plt.figure(figsize=(12,8))\n",
        "# Main scatter plot\n",
        "plt.scatter(\n",
        "    merged_df['imdb_score'],\n",
        "    merged_df['imdb_votes'],\n",
        "    s=merged_df['imdb_votes']**0.5,  # Bubble size proportional to votes\n",
        "    alpha=0.5,\n",
        "    c=merged_df['imdb_score'],\n",
        "    cmap='coolwarm'\n",
        ")\n",
        "\n",
        "plt.xlabel('IMDb Rating')\n",
        "plt.ylabel('Number of Votes (Popularity)')\n",
        "plt.title('Popularity vs IMDb Rating (Bubble Chart)')\n",
        "plt.yscale('log')\n",
        "plt.colorbar(label='IMDb Rating')\n",
        "\n",
        "# Identify top-rated and most-voted titles\n",
        "top_rated = merged_df.loc[merged_df['imdb_score'].idxmax()]\n",
        "top_voted = merged_df.loc[merged_df['imdb_votes'].idxmax()]\n",
        "\n",
        "# Highlight Top-rated (big bubble + purple outline)\n",
        "plt.scatter(\n",
        "    top_rated['imdb_score'], top_rated['imdb_votes'],\n",
        "    s=500, facecolors='none', edgecolors='purple', linewidths=2.5\n",
        ")\n",
        "\n",
        "# Highlight Most-voted (big bubble + purple outline)\n",
        "plt.scatter(\n",
        "    top_voted['imdb_score'], top_voted['imdb_votes'],\n",
        "    s=500, facecolors='none', edgecolors='Green', linewidths=2.5\n",
        ")\n",
        "\n",
        "# Top-rated label (blue text)\n",
        "plt.annotate(\n",
        "    f\"{top_rated['title']}(Most Rated)\",\n",
        "    (top_rated['imdb_score'], top_rated['imdb_votes']),\n",
        "    xytext=(-80,-30), textcoords='offset points', fontsize=10, color='Purple',\n",
        "    arrowprops=dict(arrowstyle=\"->\", color='purple', lw=1.5)\n",
        ")\n",
        "\n",
        "# Most-voted label (green text)\n",
        "plt.annotate(\n",
        "    f\"{top_voted['title']} (Most Voted)\",\n",
        "    (top_voted['imdb_score'], top_voted['imdb_votes']),\n",
        "    xytext=(10,-15), textcoords='offset points', fontsize=10, color='green',\n",
        "    arrowprops=dict(arrowstyle=\"->\", color='green', lw=1.5)\n",
        ")\n",
        "\n",
        "plt.show()\n"
      ],
      "metadata": {
        "id": "64FWcpIIbgf2"
      },
      "execution_count": null,
      "outputs": []
    },
    {
      "cell_type": "markdown",
      "source": [
        "##### 1. Why did you pick the specific chart?"
      ],
      "metadata": {
        "id": "t27r6nlMphqO"
      }
    },
    {
      "cell_type": "markdown",
      "source": [
        "\n",
        "\n",
        "*   Bubble size adds a third dimension (e.g., popularity), making it visually engaging.\n",
        "\n",
        "\n",
        "*   Great way to end, because it moves from general patterns to specific star performers.\n",
        "\n"
      ],
      "metadata": {
        "id": "iv6ro40sphqO"
      }
    },
    {
      "cell_type": "markdown",
      "source": [
        "##### 2. What is/are the insight(s) found from the chart?"
      ],
      "metadata": {
        "id": "r2jJGEOYphqO"
      }
    },
    {
      "cell_type": "markdown",
      "source": [
        "1.   Titanic sits high on the Y-axis (around 1 million votes), showing extreme popularity, though its rating is good but not the highest.\n",
        "\n",
        "2.   Pawankhind is close to the perfect rating (near 10), but has far fewer votes .\n",
        "\n",
        "3.   The top-rated movies vary widely in vote counts — some are barely voted on, others have decent visibility."
      ],
      "metadata": {
        "id": "Po6ZPi4hphqO"
      }
    },
    {
      "cell_type": "markdown",
      "source": [
        "##### 3. Will the gained insights help creating a positive business impact?\n",
        "Are there any insights that lead to negative growth? Justify with specific reason."
      ],
      "metadata": {
        "id": "b0JNsNcRphqO"
      }
    },
    {
      "cell_type": "markdown",
      "source": [
        "**Positive Impact**\n",
        "\n",
        "1. Popular Movies Are Generally Well-Rated:Many of the most voted movies (like Titanic) fall within the 7–8.5 IMDb rating range.\n",
        "This suggests a positive correlation between popularity and quality — widely watched movies tend to be well-received.\n",
        "\n",
        "2. High Ratings Exist Across Vote Counts:Some movies with lower vote counts still have very high ratings (e.g., Pawankhind).\n",
        "Indicates there is room for niche or regional films to stand out for quality, even without mass visibility.\n",
        "\n",
        "**Negative Impact**\n",
        "\n",
        "1.  Some extremely popular movies have moderate ratings, suggesting that hype or brand value can overshadow quality.\n",
        "2.  Movies like Pawankhind have near-perfect ratings but relatively low vote counts."
      ],
      "metadata": {
        "id": "xvSq8iUTphqO"
      }
    },
    {
      "cell_type": "markdown",
      "source": [
        "## **5. Solution to Business Objective**"
      ],
      "metadata": {
        "id": "JcMwzZxoAimU"
      }
    },
    {
      "cell_type": "markdown",
      "source": [
        "#### What do you suggest the client to achieve Business Objective ?\n",
        "Explain Briefly."
      ],
      "metadata": {
        "id": "8G2x9gOozGDZ"
      }
    },
    {
      "cell_type": "markdown",
      "source": [
        "1.  Diversify Genres:\n",
        "Reduce over-reliance on Drama and Comedy by adding more Documentaries, Horror, and Family content to attract niche audiences.\n",
        "\n",
        "2.  Increase TV Show Content:\n",
        "With 86% movies, Amazon Prime should expand TV series and limited shows to boost long-term engagement.\n",
        "\n",
        "3.  Improve Metadata & Certifications:\n",
        "Fill missing age certifications and standardize ratings to enhance user trust and parental control features.\n",
        "\n",
        "4.  Focus on Quality Over Quantity:\n",
        "Invest in high-rated originals and remove or deprioritize low-rated titles to maintain a strong brand image.\n",
        "\n",
        "5.  Promote Hidden Gems:\n",
        "Highlight highly rated but less popular titles through targeted recommendations and marketing campaigns.\n",
        "\n",
        "6.  Leverage Growth After 2020:\n",
        "Continue expanding content libraries and regional offerings to maintain post-COVID streaming momentum.\n",
        "\n",
        "7.  Use Analytics Continuously:\n",
        "Build dashboards to track genre trends, audience ratings, and engagement for data-driven decisions."
      ],
      "metadata": {
        "id": "CuDlmarsZvoD"
      }
    },
    {
      "cell_type": "markdown",
      "source": [
        "# **Conclusion**"
      ],
      "metadata": {
        "id": "gCX9965dhzqZ"
      }
    },
    {
      "cell_type": "markdown",
      "source": [
        "Amazon Prime Video’s content library is movie-dominant, globally diverse, and steadily expanding — especially post-2020.\n",
        "The platform’s strong focus on Drama and Comedy ensures mass appeal, but overreliance on these genres may limit future growth in niche markets.\n",
        "Ratings data shows consistent, moderate-quality content with a few standout titles.\n",
        "Audience engagement patterns indicate that popularity and quality don’t always overlap — suggesting Amazon Prime balances between commercial success and artistic diversity."
      ],
      "metadata": {
        "id": "Fjb1IsQkh3yE"
      }
    },
    {
      "cell_type": "markdown",
      "source": [
        "### ***Hurrah! You have successfully completed your EDA Capstone Project !!!***"
      ],
      "metadata": {
        "id": "gIfDvo9L0UH2"
      }
    }
  ]
}